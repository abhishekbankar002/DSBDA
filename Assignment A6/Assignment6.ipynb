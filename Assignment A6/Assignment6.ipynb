{
 "cells": [
  {
   "cell_type": "code",
   "execution_count": 36,
   "metadata": {
    "executionInfo": {
     "elapsed": 1029,
     "status": "ok",
     "timestamp": 1650503528584,
     "user": {
      "displayName": "Bhagwat Palve",
      "userId": "08616202209813208652"
     },
     "user_tz": -330
    },
    "id": "R4uGK53crKvF"
   },
   "outputs": [],
   "source": [
    "import numpy as np\n",
    "import matplotlib.pyplot as plt\n",
    "import pandas as pd\n",
    "from sklearn.naive_bayes import BernoulliNB\n",
    "from sklearn.model_selection import train_test_split\n",
    "from sklearn.preprocessing import StandardScaler\n",
    "from sklearn.metrics import confusion_matrix\n",
    "from sklearn import datasets"
   ]
  },
  {
   "cell_type": "code",
   "execution_count": 37,
   "metadata": {
    "executionInfo": {
     "elapsed": 1720,
     "status": "ok",
     "timestamp": 1650503704662,
     "user": {
      "displayName": "Bhagwat Palve",
      "userId": "08616202209813208652"
     },
     "user_tz": -330
    },
    "id": "F1i5lb8orQrz"
   },
   "outputs": [],
   "source": [
    "dataset = datasets.load_iris()\n",
    "X = dataset.data[:, :4]\n",
    "y = dataset.target"
   ]
  },
  {
   "cell_type": "code",
   "execution_count": 38,
   "metadata": {
    "colab": {
     "base_uri": "https://localhost:8080/",
     "height": 206
    },
    "executionInfo": {
     "elapsed": 401,
     "status": "ok",
     "timestamp": 1650503717989,
     "user": {
      "displayName": "Bhagwat Palve",
      "userId": "08616202209813208652"
     },
     "user_tz": -330
    },
    "id": "ElvIesoNrivR",
    "outputId": "9781b93e-3b9e-44af-ecdb-e746c3146288"
   },
   "outputs": [],
   "source": [
    "X_train, X_test, y_train, y_test = train_test_split(X, y, test_size=0.20, random_state=0)"
   ]
  },
  {
   "cell_type": "code",
   "execution_count": 39,
   "metadata": {
    "colab": {
     "base_uri": "https://localhost:8080/"
    },
    "executionInfo": {
     "elapsed": 443,
     "status": "ok",
     "timestamp": 1650503788760,
     "user": {
      "displayName": "Bhagwat Palve",
      "userId": "08616202209813208652"
     },
     "user_tz": -330
    },
    "id": "c_VGkA-OsAL5",
    "outputId": "0a15a236-21b2-43ca-d995-f8a36068003f"
   },
   "outputs": [],
   "source": [
    "sc = StandardScaler()\n",
    "X_train = sc.fit_transform(X_train)\n",
    "X_test = sc.transform(X_test)"
   ]
  },
  {
   "cell_type": "code",
   "execution_count": 40,
   "metadata": {
    "executionInfo": {
     "elapsed": 412,
     "status": "ok",
     "timestamp": 1650504544626,
     "user": {
      "displayName": "Bhagwat Palve",
      "userId": "08616202209813208652"
     },
     "user_tz": -330
    },
    "id": "3i8GPbQ-sKmh"
   },
   "outputs": [
    {
     "data": {
      "text/plain": [
       "BernoulliNB()"
      ]
     },
     "execution_count": 40,
     "metadata": {},
     "output_type": "execute_result"
    }
   ],
   "source": [
    "classifier = BernoulliNB()\n",
    "classifier.fit(X_train, y_train)"
   ]
  },
  {
   "cell_type": "code",
   "execution_count": 41,
   "metadata": {
    "colab": {
     "base_uri": "https://localhost:8080/",
     "height": 206
    },
    "executionInfo": {
     "elapsed": 630,
     "status": "ok",
     "timestamp": 1650504572181,
     "user": {
      "displayName": "Bhagwat Palve",
      "userId": "08616202209813208652"
     },
     "user_tz": -330
    },
    "id": "iPa7pT1RvK1l",
    "outputId": "4cb355ae-70e7-4486-8fea-d3be6a5202aa"
   },
   "outputs": [],
   "source": [
    "y_pred = classifier.predict(X_test)"
   ]
  },
  {
   "cell_type": "code",
   "execution_count": 42,
   "metadata": {
    "colab": {
     "base_uri": "https://localhost:8080/"
    },
    "executionInfo": {
     "elapsed": 390,
     "status": "ok",
     "timestamp": 1650505593648,
     "user": {
      "displayName": "Bhagwat Palve",
      "userId": "08616202209813208652"
     },
     "user_tz": -330
    },
    "id": "7S7KK-ajyNx9",
    "outputId": "7f0bdda4-d414-41a5-d7db-988bdecc0fd7"
   },
   "outputs": [
    {
     "name": "stdout",
     "output_type": "stream",
     "text": [
      "[[11  0  0]\n",
      " [ 1  4  8]\n",
      " [ 0  2  4]]\n"
     ]
    }
   ],
   "source": [
    "cm = confusion_matrix(y_test, y_pred)\n",
    "print(cm)"
   ]
  },
  {
   "cell_type": "code",
   "execution_count": 43,
   "metadata": {
    "id": "OzQzk-zUzK5j"
   },
   "outputs": [
    {
     "name": "stdout",
     "output_type": "stream",
     "text": [
      "[[11  0  0]\n",
      " [ 1  4  8]\n",
      " [ 0  2  4]]\n",
      "11 1 0 18\n"
     ]
    }
   ],
   "source": [
    "print(cm)\n",
    "TP = np.diag(cm)\n",
    "FP = cm.sum(axis = 0) - np.diag(cm)\n",
    "FN = cm.sum(axis = 1) - np.diag(cm)\n",
    "TN = cm.sum()-(FP + FN + TP)\n",
    "print(TP[0], FP[0], FN[0], TN[0])"
   ]
  },
  {
   "cell_type": "code",
   "execution_count": 44,
   "metadata": {},
   "outputs": [
    {
     "data": {
      "text/plain": [
       "0.9666666666666667"
      ]
     },
     "execution_count": 44,
     "metadata": {},
     "output_type": "execute_result"
    }
   ],
   "source": [
    "ACC = (TP + TN)/(TP+TN+FP+FN)\n",
    "ACC[0]"
   ]
  },
  {
   "cell_type": "code",
   "execution_count": 45,
   "metadata": {},
   "outputs": [
    {
     "data": {
      "text/plain": [
       "0.9166666666666666"
      ]
     },
     "execution_count": 45,
     "metadata": {},
     "output_type": "execute_result"
    }
   ],
   "source": [
    "PRC = TP/(TP+FP)\n",
    "PRC[0]"
   ]
  },
  {
   "cell_type": "code",
   "execution_count": 46,
   "metadata": {},
   "outputs": [
    {
     "data": {
      "text/plain": [
       "1.0"
      ]
     },
     "execution_count": 46,
     "metadata": {},
     "output_type": "execute_result"
    }
   ],
   "source": [
    "RCL = TP/(TP+FN)\n",
    "RCL[0]"
   ]
  }
 ],
 "metadata": {
  "colab": {
   "authorship_tag": "ABX9TyOOvYficuhMvA4/T8G0Srk4",
   "collapsed_sections": [],
   "name": "Assignment6.ipynb",
   "provenance": []
  },
  "kernelspec": {
   "display_name": "Python 3",
   "language": "python",
   "name": "python3"
  },
  "language_info": {
   "codemirror_mode": {
    "name": "ipython",
    "version": 3
   },
   "file_extension": ".py",
   "mimetype": "text/x-python",
   "name": "python",
   "nbconvert_exporter": "python",
   "pygments_lexer": "ipython3",
   "version": "3.8.5"
  }
 },
 "nbformat": 4,
 "nbformat_minor": 1
}
